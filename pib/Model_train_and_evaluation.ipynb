{
 "cells": [
  {
   "cell_type": "code",
   "execution_count": 1,
   "metadata": {},
   "outputs": [],
   "source": [
    "import numpy as np\n",
    "\n",
    "import torch\n",
    "import torch.nn as nn\n",
    "import torch.optim as optim\n",
    "\n",
    "from sklearn.model_selection import train_test_split\n",
    "from sklearn import datasets\n",
    "import matplotlib.pyplot as plt\n",
    "from numpy import genfromtxt\n",
    "from torchdiffeq import odeint\n",
    "\n",
    "import scipy\n",
    "import csv\n",
    "import pandas as pd\n",
    "import networkx as nx\n",
    "import os\n",
    "import random"
   ]
  },
  {
   "cell_type": "code",
   "execution_count": 2,
   "metadata": {},
   "outputs": [],
   "source": [
    "# Get batch method for cross_validation in 10 folders for 112 subjects\n",
    "def get_batch(data_x,data_y, L, s): #state in [0,9]\n",
    "    kk = [*range(0,len(data_x))]\n",
    "    if s != 0 and s != 9:\n",
    "        test_x = data_x[s*11:s*11+11]  \n",
    "        train_x = data_x[np.array(range(0,s*11)).tolist() + np.array(range(s*11+11,112)).tolist()] \n",
    "        test_y = data_y[s*11:s*11+11]  \n",
    "        train_y = data_y[np.array(range(0,s*11)).tolist() + np.array(range(s*11+11,112)).tolist()] \n",
    "        test_L = L[s*11:s*11+11]\n",
    "        train_L = L[np.array(range(0,s*11)).tolist() + np.array(range(s*11+11,112)).tolist()]\n",
    "        index = kk[s*11:s*11+11]\n",
    "    elif s == 0:\n",
    "        test_x = data_x[0:11]  \n",
    "        train_x = data_x[11:112]\n",
    "        test_y = data_y[0:11]  \n",
    "        train_y = data_y[11:112]\n",
    "        test_L = L[0:11]\n",
    "        train_L = L[11:112]\n",
    "        index = kk[0:11]\n",
    "    else:\n",
    "        train_x = data_x[0:99]  \n",
    "        test_x = data_x[99:112]\n",
    "        train_y = data_y[0:99] \n",
    "        test_y = data_y[99:112]\n",
    "        train_L = L[0:99]\n",
    "        test_L = L[99:112]\n",
    "        index = kk[99:112]\n",
    "        \n",
    "    return train_x,test_x, train_y, test_y,train_L,test_L, index"
   ]
  },
  {
   "cell_type": "code",
   "execution_count": 3,
   "metadata": {},
   "outputs": [],
   "source": [
    "def get_random(pib): #generate randomized permutations\n",
    "    return np.random.normal(np.mean(pib,dtype=np.float64), np.std(pib,dtype=np.float64), 16)"
   ]
  },
  {
   "cell_type": "code",
   "execution_count": 4,
   "metadata": {},
   "outputs": [],
   "source": [
    "def get_random2(pib): #generate randomized permutations\n",
    "    array = np.zeros(16)\n",
    "    for i in range(0,16):\n",
    "        array[i] = np.random.normal(np.mean(pib[:,i],dtype=np.float64), np.std(pib[:,i],dtype=np.float64), 1)\n",
    "    return torch.from_numpy(array)"
   ]
  },
  {
   "cell_type": "code",
   "execution_count": 5,
   "metadata": {},
   "outputs": [],
   "source": [
    "#Among what percentile is my perdiction stand out from random guesses version 1\n",
    "def evaluate_1(pib, pred_pib, batch_size):\n",
    "    temp = []\n",
    "    loss = nn.MSELoss()\n",
    "    my_loss = loss(pred_pib,pib)\n",
    "    for i in range(0,batch_size - 1):\n",
    "        temp.append(loss(torch.tensor(get_random(pib.numpy())).float(),pib))\n",
    "    count = len([j for j in temp if j < my_loss])\n",
    "    return (count)/batch_size"
   ]
  },
  {
   "cell_type": "code",
   "execution_count": 6,
   "metadata": {},
   "outputs": [],
   "source": [
    "#Among what percentile is my perdiction stand out from other patients'data\n",
    "def evaluate_2(pib, pred_pib, index, batch_size):\n",
    "    temp = []\n",
    "    loss = nn.MSELoss()\n",
    "    my_loss = loss(pred_pib,pib[index])\n",
    "    for i in range(0,batch_size):\n",
    "        temp.append(loss(pred_pib,pib[i]))\n",
    "    count = len([j for j in temp if j < my_loss])\n",
    "    return (count)/batch_size"
   ]
  },
  {
   "cell_type": "code",
   "execution_count": 7,
   "metadata": {},
   "outputs": [],
   "source": [
    "#Among what percentile is my perdiction stand out from random guesses version 2\n",
    "def evaluate_3(pib, pred_pib, index, batch_size):\n",
    "    temp = []\n",
    "    loss = nn.MSELoss()\n",
    "    my_loss = loss(pred_pib,pib[index])\n",
    "    for i in range(0,batch_size - 1):\n",
    "        temp.append(loss(torch.tensor(get_random2(pib.numpy())).float(),pib[index]))\n",
    "    count = len([j for j in temp if j < my_loss])\n",
    "    return (count)/batch_size"
   ]
  },
  {
   "cell_type": "markdown",
   "metadata": {},
   "source": [
    "## Load PIB data"
   ]
  },
  {
   "cell_type": "code",
   "execution_count": 8,
   "metadata": {},
   "outputs": [],
   "source": [
    "pib_v1_ = genfromtxt('data_v1.csv', delimiter=',',skip_header=0).astype(float)\n",
    "pib_v2_ = genfromtxt('data_v2.csv', delimiter=',',skip_header=0).astype(float)\n",
    "pib_v3_ = genfromtxt('data_v3.csv', delimiter=',',skip_header=0).astype(float)\n",
    "num_obj = pib_v1_.shape[0]-1"
   ]
  },
  {
   "cell_type": "code",
   "execution_count": 9,
   "metadata": {},
   "outputs": [],
   "source": [
    "pib_v1 = np.zeros((num_obj, 16))\n",
    "pib_v2 = np.zeros((num_obj, 16))\n",
    "pib_v3 = np.zeros((num_obj, 16))"
   ]
  },
  {
   "cell_type": "code",
   "execution_count": 10,
   "metadata": {},
   "outputs": [],
   "source": [
    "for i in range(0,num_obj):\n",
    "    pib_v1[i] = np.delete(pib_v1_[i + 1], list(range(0,43))+ list(range(45,49)) + list(range(51,53)) + list(range(55,81)) +list(range(87,99))+list(range(101,103)) + list(range(105,259)))\n",
    "    pib_v2[i] = np.delete(pib_v2_[i + 1], list(range(0,43))+ list(range(45,49)) + list(range(51,53)) + list(range(55,81)) +list(range(87,99))+list(range(101,103)) + list(range(105,259)))\n",
    "    pib_v3[i] = np.delete(pib_v3_[i + 1], list(range(0,43))+ list(range(45,49)) + list(range(51,53)) + list(range(55,81)) +list(range(87,99))+list(range(101,103)) + list(range(105,259)))"
   ]
  },
  {
   "cell_type": "code",
   "execution_count": 11,
   "metadata": {},
   "outputs": [],
   "source": [
    "#pib_v1.shape"
   ]
  },
  {
   "cell_type": "code",
   "execution_count": 12,
   "metadata": {},
   "outputs": [],
   "source": [
    "# define empty list\n",
    "positive = []\n",
    "\n",
    "# open file and read the content in a list\n",
    "with open('Amyloid_POS.txt', 'r') as filehandle:\n",
    "    filecontents = filehandle.readlines()\n",
    "\n",
    "    for line in filecontents:\n",
    "        # remove linebreak which is the last character of the string\n",
    "        current_place = line[:-1]\n",
    "\n",
    "        # add item to the list\n",
    "        positive.append(current_place)"
   ]
  },
  {
   "cell_type": "code",
   "execution_count": 13,
   "metadata": {},
   "outputs": [],
   "source": [
    "da = pd.read_csv('./data_v3.csv')\n",
    "list_pos = []\n",
    "for i in range(0,da.shape[0]):\n",
    "    if da['subjectid'][i] in positive:\n",
    "        list_pos.append(i)"
   ]
  },
  {
   "cell_type": "code",
   "execution_count": 14,
   "metadata": {},
   "outputs": [],
   "source": [
    "#list_pos"
   ]
  },
  {
   "cell_type": "markdown",
   "metadata": {},
   "source": [
    "## Load Connectivity Matrix and Compute Laplace "
   ]
  },
  {
   "cell_type": "code",
   "execution_count": 15,
   "metadata": {},
   "outputs": [],
   "source": [
    "filePath = '../v1/'\n",
    "filelist = os.listdir(filePath)"
   ]
  },
  {
   "cell_type": "code",
   "execution_count": 16,
   "metadata": {},
   "outputs": [],
   "source": [
    "Connect_v1 =  np.zeros((num_obj, 16, 16))\n",
    "for i in range(0,num_obj):\n",
    "    temp = genfromtxt(filePath + filelist[i], delimiter=',').astype(float)\n",
    "    temp = np.delete(temp, list(range(0,25)) + list(range(27,31)) + list(range(33,35)) + list(range(37,63)) +list(range(69,81))+list(range(83,85)) + list(range(87,123)), 0)\n",
    "    temp = np.delete(temp, list(range(0,25)) + list(range(27,31)) + list(range(33,35)) + list(range(37,63)) +list(range(69,81))+list(range(83,85)) + list(range(87,123)), 1)\n",
    "    temp = nx.from_numpy_matrix(temp)\n",
    "    temp = nx.laplacian_matrix(temp)\n",
    "    Connect_v1[i] = scipy.sparse.csr_matrix.todense(temp)"
   ]
  },
  {
   "cell_type": "code",
   "execution_count": 17,
   "metadata": {},
   "outputs": [],
   "source": [
    "filePath = '../v2/'\n",
    "filelist = os.listdir(filePath)\n",
    "Connect_v2 =  np.zeros((num_obj, 16, 16))\n",
    "for i in range(0,num_obj):\n",
    "    temp = genfromtxt(filePath + filelist[i], delimiter=',').astype(float)\n",
    "    temp = np.delete(temp, list(range(0,25)) + list(range(27,31)) + list(range(33,35)) + list(range(37,63)) +list(range(69,81))+list(range(83,85)) + list(range(87,123)), 0)\n",
    "    temp = np.delete(temp, list(range(0,25)) + list(range(27,31)) + list(range(33,35)) + list(range(37,63)) +list(range(69,81))+list(range(83,85)) + list(range(87,123)), 1)\n",
    "    temp = nx.from_numpy_matrix(temp)\n",
    "    temp = nx.laplacian_matrix(temp)\n",
    "    Connect_v2[i] = scipy.sparse.csr_matrix.todense(temp)"
   ]
  },
  {
   "cell_type": "code",
   "execution_count": 18,
   "metadata": {},
   "outputs": [],
   "source": [
    "#Connect_v1.shape"
   ]
  },
  {
   "cell_type": "markdown",
   "metadata": {},
   "source": [
    "# Get Batch"
   ]
  },
  {
   "cell_type": "code",
   "execution_count": 19,
   "metadata": {},
   "outputs": [],
   "source": [
    "X_train, X_test, y_train, y_test, L_train, L_test, index = get_batch(pib_v1, pib_v2, Connect_v1, s=9)\n",
    "X_train = torch.tensor(X_train).float()\n",
    "X_test = torch.tensor(X_test).float()\n",
    "y_train = torch.tensor(y_train).float()\n",
    "y_test = torch.tensor(y_test).float()\n",
    "L_train = torch.tensor(L_train).float()\n",
    "L_test = torch.tensor(L_test).float()"
   ]
  },
  {
   "cell_type": "code",
   "execution_count": 20,
   "metadata": {},
   "outputs": [],
   "source": [
    "#X_train.shape"
   ]
  },
  {
   "cell_type": "markdown",
   "metadata": {},
   "source": [
    "## Set Up Model"
   ]
  },
  {
   "cell_type": "code",
   "execution_count": 21,
   "metadata": {},
   "outputs": [],
   "source": [
    "class ODEFunc(nn.Module):\n",
    "\n",
    "    def __init__(self,L):\n",
    "        super(ODEFunc, self).__init__()\n",
    "        self.B = nn.Parameter(torch.zeros(16,16))\n",
    "        torch.nn.init.ones_(self.B) #or any other init metho\n",
    "        self.B.data = -0.01*self.B.data\n",
    "        self.L = L\n",
    "\n",
    "    def forward(self, t, y):\n",
    "        B_trans = torch.tensor(np.transpose(self.B.detach().numpy())).float()\n",
    "        M = self.L*(self.B + nn.Parameter(B_trans))/2\n",
    "        return y @ M.t().float()\n",
    "    \n",
    "    def setL(self,L_):\n",
    "        self.L = L_"
   ]
  },
  {
   "cell_type": "code",
   "execution_count": 22,
   "metadata": {},
   "outputs": [],
   "source": [
    "class ODEBlock(nn.Module):\n",
    "\n",
    "    #initialized as an ODE Function\n",
    "    #count the time\n",
    "    def __init__(self, odefunc):\n",
    "        super(ODEBlock, self).__init__()\n",
    "        self.odefunc = odefunc\n",
    "\n",
    "    #forward pass \n",
    "    #input the ODE function and input data into the ODE Solver (adjoint method)\n",
    "    # to compute a forward pass\n",
    "    def forward(self,integration_time, x, L):\n",
    "        self.odefunc.setL(L)\n",
    "        out = odeint(self.odefunc, x , integration_time.type_as(x))\n",
    "        return out"
   ]
  },
  {
   "cell_type": "code",
   "execution_count": 23,
   "metadata": {},
   "outputs": [],
   "source": [
    "model = ODEBlock(ODEFunc(L_train[0]))\n",
    "loss = nn.MSELoss()##nn.L1Loss()"
   ]
  },
  {
   "cell_type": "code",
   "execution_count": 24,
   "metadata": {},
   "outputs": [],
   "source": [
    "# regularization term\n",
    "def myloss(y,pred_y,reg):\n",
    "    return loss(y,pred_y) + np.linalg.det(reg)"
   ]
  },
  {
   "cell_type": "code",
   "execution_count": 25,
   "metadata": {},
   "outputs": [
    {
     "name": "stdout",
     "output_type": "stream",
     "text": [
      "odefunc.B\n",
      "Parameter containing:\n",
      "tensor([[-0.0100, -0.0100, -0.0100, -0.0100, -0.0100, -0.0100, -0.0100, -0.0100,\n",
      "         -0.0100, -0.0100, -0.0100, -0.0100, -0.0100, -0.0100, -0.0100, -0.0100],\n",
      "        [-0.0100, -0.0100, -0.0100, -0.0100, -0.0100, -0.0100, -0.0100, -0.0100,\n",
      "         -0.0100, -0.0100, -0.0100, -0.0100, -0.0100, -0.0100, -0.0100, -0.0100],\n",
      "        [-0.0100, -0.0100, -0.0100, -0.0100, -0.0100, -0.0100, -0.0100, -0.0100,\n",
      "         -0.0100, -0.0100, -0.0100, -0.0100, -0.0100, -0.0100, -0.0100, -0.0100],\n",
      "        [-0.0100, -0.0100, -0.0100, -0.0100, -0.0100, -0.0100, -0.0100, -0.0100,\n",
      "         -0.0100, -0.0100, -0.0100, -0.0100, -0.0100, -0.0100, -0.0100, -0.0100],\n",
      "        [-0.0100, -0.0100, -0.0100, -0.0100, -0.0100, -0.0100, -0.0100, -0.0100,\n",
      "         -0.0100, -0.0100, -0.0100, -0.0100, -0.0100, -0.0100, -0.0100, -0.0100],\n",
      "        [-0.0100, -0.0100, -0.0100, -0.0100, -0.0100, -0.0100, -0.0100, -0.0100,\n",
      "         -0.0100, -0.0100, -0.0100, -0.0100, -0.0100, -0.0100, -0.0100, -0.0100],\n",
      "        [-0.0100, -0.0100, -0.0100, -0.0100, -0.0100, -0.0100, -0.0100, -0.0100,\n",
      "         -0.0100, -0.0100, -0.0100, -0.0100, -0.0100, -0.0100, -0.0100, -0.0100],\n",
      "        [-0.0100, -0.0100, -0.0100, -0.0100, -0.0100, -0.0100, -0.0100, -0.0100,\n",
      "         -0.0100, -0.0100, -0.0100, -0.0100, -0.0100, -0.0100, -0.0100, -0.0100],\n",
      "        [-0.0100, -0.0100, -0.0100, -0.0100, -0.0100, -0.0100, -0.0100, -0.0100,\n",
      "         -0.0100, -0.0100, -0.0100, -0.0100, -0.0100, -0.0100, -0.0100, -0.0100],\n",
      "        [-0.0100, -0.0100, -0.0100, -0.0100, -0.0100, -0.0100, -0.0100, -0.0100,\n",
      "         -0.0100, -0.0100, -0.0100, -0.0100, -0.0100, -0.0100, -0.0100, -0.0100],\n",
      "        [-0.0100, -0.0100, -0.0100, -0.0100, -0.0100, -0.0100, -0.0100, -0.0100,\n",
      "         -0.0100, -0.0100, -0.0100, -0.0100, -0.0100, -0.0100, -0.0100, -0.0100],\n",
      "        [-0.0100, -0.0100, -0.0100, -0.0100, -0.0100, -0.0100, -0.0100, -0.0100,\n",
      "         -0.0100, -0.0100, -0.0100, -0.0100, -0.0100, -0.0100, -0.0100, -0.0100],\n",
      "        [-0.0100, -0.0100, -0.0100, -0.0100, -0.0100, -0.0100, -0.0100, -0.0100,\n",
      "         -0.0100, -0.0100, -0.0100, -0.0100, -0.0100, -0.0100, -0.0100, -0.0100],\n",
      "        [-0.0100, -0.0100, -0.0100, -0.0100, -0.0100, -0.0100, -0.0100, -0.0100,\n",
      "         -0.0100, -0.0100, -0.0100, -0.0100, -0.0100, -0.0100, -0.0100, -0.0100],\n",
      "        [-0.0100, -0.0100, -0.0100, -0.0100, -0.0100, -0.0100, -0.0100, -0.0100,\n",
      "         -0.0100, -0.0100, -0.0100, -0.0100, -0.0100, -0.0100, -0.0100, -0.0100],\n",
      "        [-0.0100, -0.0100, -0.0100, -0.0100, -0.0100, -0.0100, -0.0100, -0.0100,\n",
      "         -0.0100, -0.0100, -0.0100, -0.0100, -0.0100, -0.0100, -0.0100, -0.0100]],\n",
      "       requires_grad=True)\n"
     ]
    }
   ],
   "source": [
    "optimizer = optim.SGD(model.parameters(), lr=1e-3)#optim.RMSprop(model.parameters(), lr=1e-3)\n",
    "for name, param in model.named_parameters(): \n",
    "    print(name)\n",
    "    print(param)"
   ]
  },
  {
   "cell_type": "code",
   "execution_count": 26,
   "metadata": {},
   "outputs": [],
   "source": [
    "#loss(X_train,y_train)"
   ]
  },
  {
   "cell_type": "markdown",
   "metadata": {},
   "source": [
    "# Train"
   ]
  },
  {
   "cell_type": "code",
   "execution_count": 27,
   "metadata": {},
   "outputs": [],
   "source": [
    "integration_t= torch.tensor([0,0.3]).float()###############time 0.3 is an artificial number, can be tuned based on the prediction performance"
   ]
  },
  {
   "cell_type": "code",
   "execution_count": 28,
   "metadata": {},
   "outputs": [
    {
     "name": "stdout",
     "output_type": "stream",
     "text": [
      "Iter 0001 | train Loss 0.004025| test Loss 0.002810\n"
     ]
    }
   ],
   "source": [
    "loss_values = []\n",
    "loss_values_test = []\n",
    "itr = 0\n",
    "batch_size = 5\n",
    "loss_train = 1\n",
    "while loss_train > 0.002 and itr<1: #itr<1000\n",
    "        optimizer.zero_grad()\n",
    "        loss_train = 0\n",
    "        loss_test = 0\n",
    "        ll = 0 \n",
    "        for i in range(0,X_train.shape[0]):\n",
    "            pred_y = model(integration_t,X_train[i], L_train[i])\n",
    "            my_B = model.odefunc.B.data.numpy()\n",
    "            reg =(np.transpose(my_B) + my_B)/2 # regularization term\n",
    "            loss_train = loss_train + myloss(pred_y[1], y_train[i],reg) # regularized loss\n",
    "            ll = ll + loss(pred_y[1], y_train[i]) # MSE loss\n",
    "        # average gradient descent loss: total loss/ number of subjects in one batch\n",
    "        loss_train = loss_train/X_train.shape[0]\n",
    "        ll = ll/X_train.shape[0]\n",
    "        loss_values.append(ll.item()) #print MSE loss\n",
    "        loss_train.backward() # backprop using regularized loss\n",
    "        optimizer.step()\n",
    "        itr = itr + 1\n",
    "        with torch.no_grad():\n",
    "            for i in range(0,X_test.shape[0]):\n",
    "                pred_y = model(integration_t,X_test[i], L_test[i])\n",
    "                loss_test = loss_test + loss(pred_y[1], y_test[i])\n",
    "            loss_test = loss_test/X_test.shape[0]\n",
    "            loss_values_test.append(loss_test.item()) # test loss\n",
    "        print('Iter {:04d} | train Loss {:.6f}| test Loss {:.6f}'.format(itr, loss_train.item(),loss_test.item()))"
   ]
  },
  {
   "cell_type": "code",
   "execution_count": 29,
   "metadata": {},
   "outputs": [],
   "source": [
    "#x1 = range(2, itr)\n",
    "#y1 = loss_values[2:itr]\n",
    "#plt.plot(x1, y1, '-')\n",
    "#plt.title('Loss_train vs. iterations')\n",
    "#plt.ylabel('Loss_train')\n",
    "#plt.savefig(\"loss_train.jpg\")\n",
    "#plt.show()"
   ]
  },
  {
   "cell_type": "code",
   "execution_count": 30,
   "metadata": {},
   "outputs": [],
   "source": [
    "#x1 = range(2, itr)\n",
    "#y1 = loss_values_test[2:itr]\n",
    "#plt.plot(x1, y1, '-')\n",
    "#plt.title('Loss_test vs. iterations')\n",
    "#plt.ylabel('Loss_test')\n",
    "#plt.savefig(\"loss_test.jpg\")\n",
    "#plt.show()"
   ]
  },
  {
   "cell_type": "code",
   "execution_count": 31,
   "metadata": {},
   "outputs": [
    {
     "name": "stdout",
     "output_type": "stream",
     "text": [
      "tensor([-0.0100, -0.0100, -0.0100, -0.0100, -0.0100, -0.0100, -0.0100, -0.0100,\n",
      "        -0.0100, -0.0100, -0.0100, -0.0100, -0.0100, -0.0100, -0.0100, -0.0100])\n",
      "tensor([-0.0100, -0.0099, -0.0100, -0.0100, -0.0100, -0.0100, -0.0100, -0.0100,\n",
      "        -0.0100, -0.0100, -0.0100, -0.0100, -0.0100, -0.0100, -0.0100, -0.0100])\n",
      "tensor([-0.0100, -0.0100, -0.0099, -0.0100, -0.0100, -0.0100, -0.0100, -0.0100,\n",
      "        -0.0100, -0.0100, -0.0100, -0.0100, -0.0100, -0.0100, -0.0100, -0.0100])\n",
      "tensor([-0.0100, -0.0100, -0.0100, -0.0099, -0.0100, -0.0100, -0.0100, -0.0100,\n",
      "        -0.0100, -0.0100, -0.0100, -0.0100, -0.0100, -0.0100, -0.0100, -0.0100])\n",
      "tensor([-0.0100, -0.0100, -0.0100, -0.0100, -0.0099, -0.0100, -0.0100, -0.0100,\n",
      "        -0.0100, -0.0100, -0.0100, -0.0100, -0.0100, -0.0100, -0.0100, -0.0100])\n",
      "tensor([-0.0100, -0.0100, -0.0100, -0.0100, -0.0100, -0.0098, -0.0100, -0.0100,\n",
      "        -0.0100, -0.0100, -0.0100, -0.0100, -0.0100, -0.0100, -0.0100, -0.0100])\n",
      "tensor([-0.0100, -0.0100, -0.0100, -0.0100, -0.0100, -0.0100, -0.0100, -0.0100,\n",
      "        -0.0100, -0.0100, -0.0100, -0.0100, -0.0100, -0.0100, -0.0100, -0.0100])\n",
      "tensor([-0.0100, -0.0100, -0.0100, -0.0100, -0.0100, -0.0100, -0.0100, -0.0100,\n",
      "        -0.0100, -0.0100, -0.0100, -0.0100, -0.0100, -0.0100, -0.0100, -0.0100])\n",
      "tensor([-0.0100, -0.0100, -0.0100, -0.0100, -0.0100, -0.0100, -0.0100, -0.0100,\n",
      "        -0.0100, -0.0100, -0.0100, -0.0100, -0.0100, -0.0100, -0.0100, -0.0100])\n",
      "tensor([-0.0100, -0.0100, -0.0100, -0.0100, -0.0100, -0.0100, -0.0100, -0.0100,\n",
      "        -0.0100, -0.0100, -0.0100, -0.0100, -0.0100, -0.0100, -0.0100, -0.0100])\n",
      "tensor([-0.0100, -0.0100, -0.0100, -0.0100, -0.0100, -0.0100, -0.0100, -0.0100,\n",
      "        -0.0100, -0.0100, -0.0100, -0.0100, -0.0100, -0.0100, -0.0100, -0.0100])\n",
      "tensor([-0.0100, -0.0100, -0.0100, -0.0100, -0.0100, -0.0100, -0.0100, -0.0100,\n",
      "        -0.0100, -0.0100, -0.0100, -0.0100, -0.0100, -0.0100, -0.0100, -0.0100])\n",
      "tensor([-0.0100, -0.0100, -0.0100, -0.0100, -0.0100, -0.0100, -0.0100, -0.0100,\n",
      "        -0.0100, -0.0100, -0.0100, -0.0100, -0.0099, -0.0100, -0.0100, -0.0100])\n",
      "tensor([-0.0100, -0.0100, -0.0100, -0.0100, -0.0100, -0.0100, -0.0100, -0.0100,\n",
      "        -0.0100, -0.0100, -0.0100, -0.0100, -0.0100, -0.0100, -0.0100, -0.0100])\n",
      "tensor([-0.0100, -0.0100, -0.0100, -0.0100, -0.0100, -0.0100, -0.0100, -0.0100,\n",
      "        -0.0100, -0.0100, -0.0100, -0.0100, -0.0100, -0.0100, -0.0100, -0.0100])\n",
      "tensor([-0.0100, -0.0100, -0.0100, -0.0100, -0.0100, -0.0100, -0.0100, -0.0100,\n",
      "        -0.0100, -0.0100, -0.0100, -0.0100, -0.0100, -0.0100, -0.0100, -0.0100])\n"
     ]
    }
   ],
   "source": [
    "for i in range(0,16):\n",
    "    print(param.data[i,:]) # inspect the weights\n",
    "#torch.save(model.state_dict(), './model.pth')"
   ]
  },
  {
   "cell_type": "code",
   "execution_count": 32,
   "metadata": {},
   "outputs": [],
   "source": [
    "#for i in range(0,len(y_test)):\n",
    "#    print(loss( y_test[i], model(integration_t,X_test[i], L_test[i])[1]))"
   ]
  },
  {
   "cell_type": "code",
   "execution_count": 33,
   "metadata": {},
   "outputs": [],
   "source": [
    "#integration_t= torch.tensor([0,0.05,0.1,0.15,0.2,0.25,0.3]).float()###############time\n",
    "#model(integration_t,X_test[19], L_test[19])"
   ]
  },
  {
   "cell_type": "code",
   "execution_count": 34,
   "metadata": {},
   "outputs": [],
   "source": [
    "#torch.save(model.state_dict(), './9.pth')\n",
    "#model.load_state_dict(torch.load('../0.pth'))"
   ]
  },
  {
   "cell_type": "markdown",
   "metadata": {},
   "source": [
    "# Cross val compare with linear method"
   ]
  },
  {
   "cell_type": "code",
   "execution_count": 335,
   "metadata": {},
   "outputs": [],
   "source": [
    "integration_t= torch.tensor([0,0.3]).float()\n",
    "pib_t1 = torch.tensor(pib_v1).float()\n",
    "pib_t2 = torch.tensor(pib_v2).float()\n",
    "pib_t3 = torch.tensor(pib_v3).float()\n",
    "\n",
    "linear_trend_t2 = torch.zeros(16)\n",
    "for i in range(0,112):\n",
    "    linear_trend_t2 = linear_trend_t2 + pib_t2[i] - pib_t1[i]\n",
    "#linear_trend_t2 = linear_trend_t2/112 \n",
    "\n",
    "\n",
    "linear_trend_t3 = torch.zeros(16)\n",
    "for i in range(0,112):\n",
    "    linear_trend_t3 = linear_trend_t3 + pib_t3[i] - pib_t1[i]\n",
    "#linear_trend_t3 = linear_trend_t3/112 "
   ]
  },
  {
   "cell_type": "code",
   "execution_count": 336,
   "metadata": {},
   "outputs": [],
   "source": [
    "gain_value = []\n",
    "off_value = []\n",
    "value_1 = [] \n",
    "test_all = 0\n",
    "amyloid_pos_win = 0\n",
    "amyloid_neg_win = 0\n",
    "for j in range(0,10):\n",
    "    index = []\n",
    "    X_train, X_test, y_train, y_test, L_train, L_test,index  = get_batch(pib_v1, pib_v2, Connect_v1, s=j)\n",
    "    X_train = torch.tensor(X_train).float()\n",
    "    X_test = torch.tensor(X_test).float()\n",
    "    y_train = torch.tensor(y_train).float()\n",
    "    y_test = torch.tensor(y_test).float()\n",
    "    L_train = torch.tensor(L_train).float()\n",
    "    L_test = torch.tensor(L_test).float()\n",
    "    test_all = test_all + len(index)\n",
    "    \n",
    "    model.load_state_dict(torch.load('./'+ str(j) + '.pth')) # in cross validation manner\n",
    "    for i in range(0,len(y_test)):\n",
    "        temp_1 = loss( X_test[i] + (linear_trend_t2 -(y_test[i] - X_test[i]))/111,y_test[i])\n",
    "        temp_2 = loss( y_test[i], model(integration_t,X_test[i], L_test[i])[1])\n",
    "        if temp_1 >= temp_2:\n",
    "            gain_value.append(((temp_1 - temp_2)/temp_1).item())\n",
    "            if index[i] in list_pos:\n",
    "                amyloid_pos_win = amyloid_pos_win + 1 \n",
    "            else:\n",
    "                amyloid_neg_win = amyloid_neg_win + 1\n",
    "            #print(((temp_1 - temp_2)/temp_1).item())\n",
    "        if temp_1 < temp_2:\n",
    "            off_value.append(((temp_2 - temp_1)/temp_1).item())\n",
    "        value_1.append(((temp_1 - temp_2)/temp_1).item()) # performance Better/Worse off for visit time point 2"
   ]
  },
  {
   "cell_type": "code",
   "execution_count": 337,
   "metadata": {},
   "outputs": [
    {
     "data": {
      "text/plain": [
       "0.7053571428571429"
      ]
     },
     "execution_count": 337,
     "metadata": {},
     "output_type": "execute_result"
    }
   ],
   "source": [
    "(amyloid_pos_win +amyloid_neg_win)/112 # percentage of our model outperforms  in total"
   ]
  },
  {
   "cell_type": "code",
   "execution_count": 338,
   "metadata": {},
   "outputs": [
    {
     "data": {
      "text/plain": [
       "0.64"
      ]
     },
     "execution_count": 338,
     "metadata": {},
     "output_type": "execute_result"
    }
   ],
   "source": [
    "amyloid_pos_win/25 # percentage of our model outperforms in amyloid postive patients"
   ]
  },
  {
   "cell_type": "code",
   "execution_count": 339,
   "metadata": {},
   "outputs": [
    {
     "data": {
      "text/plain": [
       "0.7241379310344828"
      ]
     },
     "execution_count": 339,
     "metadata": {},
     "output_type": "execute_result"
    }
   ],
   "source": [
    "amyloid_neg_win/(112-25) # percentage of our model outperforms in amyloid negative patients"
   ]
  },
  {
   "cell_type": "code",
   "execution_count": 340,
   "metadata": {},
   "outputs": [
    {
     "data": {
      "text/plain": [
       "0.17006188343899944"
      ]
     },
     "execution_count": 340,
     "metadata": {},
     "output_type": "execute_result"
    }
   ],
   "source": [
    "np.mean(off_value)"
   ]
  },
  {
   "cell_type": "code",
   "execution_count": 341,
   "metadata": {},
   "outputs": [
    {
     "data": {
      "text/plain": [
       "0.15969757648491406"
      ]
     },
     "execution_count": 341,
     "metadata": {},
     "output_type": "execute_result"
    }
   ],
   "source": [
    "np.mean(gain_value)"
   ]
  },
  {
   "cell_type": "code",
   "execution_count": 342,
   "metadata": {},
   "outputs": [],
   "source": [
    "X_train = torch.tensor(pib_v1).float()\n",
    "X_test = torch.tensor(pib_v1).float()\n",
    "y_train = torch.tensor(pib_v2).float()\n",
    "y_test = torch.tensor(pib_v3).float()\n",
    "L_train = torch.tensor(Connect_v1).float()\n",
    "L_test = torch.tensor(Connect_v1).float()\n",
    "integration_t= torch.tensor([0,0.38]).float()\n",
    "\n",
    "model.load_state_dict(torch.load('./pretain_model.pth'))\n",
    "gain_value = []\n",
    "off_value = []\n",
    "value_2 = []\n",
    "for i in range(0,len(y_test)):\n",
    "    temp_1 = loss( y_test[i], X_train[i] + (linear_trend_t3 - (y_test[i] - X_train[i]))/111)\n",
    "    temp_2 = loss( y_test[i], model(integration_t,X_train[i], L_train[i])[1])\n",
    "    if temp_1 >= temp_2:\n",
    "        gain_value.append(((temp_1 - temp_2)/temp_1).item())\n",
    "        #print(((temp_1 - temp_2)/temp_1).item())\n",
    "    if temp_1 < temp_2:\n",
    "        off_value.append(((temp_2 - temp_1)/temp_1).item())\n",
    "    value_2.append(((temp_1 - temp_2)/temp_1).item())"
   ]
  },
  {
   "cell_type": "code",
   "execution_count": 343,
   "metadata": {},
   "outputs": [
    {
     "data": {
      "text/plain": [
       "0.6696428571428571"
      ]
     },
     "execution_count": 343,
     "metadata": {},
     "output_type": "execute_result"
    }
   ],
   "source": [
    "len(gain_value)/len(y_test)"
   ]
  },
  {
   "cell_type": "code",
   "execution_count": 344,
   "metadata": {},
   "outputs": [
    {
     "data": {
      "text/plain": [
       "0.2206577100363132"
      ]
     },
     "execution_count": 344,
     "metadata": {},
     "output_type": "execute_result"
    }
   ],
   "source": [
    "np.mean(off_value)"
   ]
  },
  {
   "cell_type": "code",
   "execution_count": 345,
   "metadata": {},
   "outputs": [
    {
     "data": {
      "text/plain": [
       "0.3014787170787652"
      ]
     },
     "execution_count": 345,
     "metadata": {},
     "output_type": "execute_result"
    }
   ],
   "source": [
    "np.mean(gain_value)"
   ]
  },
  {
   "cell_type": "code",
   "execution_count": 347,
   "metadata": {},
   "outputs": [
    {
     "data": {
      "image/png": "[encoded data removed]",
      "text/plain": [
       "<Figure size 864x288 with 1 Axes>"
      ]
     },
     "metadata": {
      "needs_background": "light"
     },
     "output_type": "display_data"
    }
   ],
   "source": [
    "plt.rcParams.update({'font.size': 18,'xtick.major.width'   : 1,'ytick.major.width'   : 1,'axes.linewidth' : 1})\n",
    "n_bins = 1000\n",
    "\n",
    "fig, ax = plt.subplots(figsize=(12, 4))\n",
    "\n",
    "# plot the cumulative histogram\n",
    "n, bins, patches = ax.hist(value_1, n_bins, density=True, histtype='step',\n",
    "                           cumulative=True, linestyle = '-',label='Predicting time-2 from time-1',linewidth=1.5)\n",
    "n, bins, patches = ax.hist(value_2, n_bins, density=True, histtype='step',\n",
    "                           cumulative=True, linestyle = '-.',label='Predicting time-3 from time-1',linewidth=1.5)\n",
    "my_x_ticks = np.arange(-1.5, 0.7, 0.3)\n",
    "my_y_ticks = np.arange(-0., 1.1, 0.2)\n",
    "plt.xticks(my_x_ticks)\n",
    "plt.yticks(my_y_ticks)\n",
    "plt.vlines(0,0,1,color = 'k',label=\"Group Trend is as good as our prediction\")\n",
    "# tidy up the figure\n",
    "ax.legend(loc='upper left')\n",
    "#ax.set_xlabel('The Persentage That Our Prediction Better Off Compared with the Base Line')\n",
    "ax.set_ylabel('Percentage of Subjects')\n",
    "\n",
    "plt.show()"
   ]
  },
  {
   "cell_type": "markdown",
   "metadata": {},
   "source": [
    "# Evaluation on test data from t1 to t2"
   ]
  },
  {
   "cell_type": "code",
   "execution_count": 47,
   "metadata": {},
   "outputs": [
    {
     "name": "stderr",
     "output_type": "stream",
     "text": [
      "C:\\Users\\lenovo\\Anaconda3\\lib\\site-packages\\ipykernel_launcher.py:7: UserWarning: To copy construct from a tensor, it is recommended to use sourceTensor.clone().detach() or sourceTensor.clone().detach().requires_grad_(True), rather than torch.tensor(sourceTensor).\n",
      "  import sys\n"
     ]
    }
   ],
   "source": [
    "integration_t= torch.tensor([0,0.3]).float()###############time\n",
    "list_y = []\n",
    "list_x = []\n",
    "list_z = []\n",
    "for j in range(0,10):\n",
    "    X_train, X_test, y_train, y_test, L_train, L_test, index = get_batch(pib_v1, pib_v2, Connect_v1, s=j)\n",
    "    X_train = torch.tensor(X_train).float()\n",
    "    X_test = torch.tensor(X_test).float()\n",
    "    y_train = torch.tensor(y_train).float()\n",
    "    y_test = torch.tensor(y_test).float()\n",
    "    L_train = torch.tensor(L_train).float()\n",
    "    L_test = torch.tensor(L_test).float()\n",
    "    \n",
    "    model.load_state_dict(torch.load('./'+ str(j) + '.pth'))\n",
    "    for i in range(0,len(y_test)):\n",
    "        temp_1 = evaluate_2( y_test, model(integration_t,X_test[i], L_test[i])[1],i, len(y_test))\n",
    "        temp_2 = evaluate_1(y_test[i], model(integration_t,X_test[i], L_test[i])[1], 100)\n",
    "        temp_3 = evaluate_3(y_test, model(integration_t,X_test[i], L_test[i])[1],i, 100)\n",
    "        list_y.append(temp_1)\n",
    "        list_x.append(temp_2)\n",
    "        list_z.append(temp_3)\n",
    "        #print(temp)"
   ]
  },
  {
   "cell_type": "code",
   "execution_count": 48,
   "metadata": {},
   "outputs": [
    {
     "data": {
      "image/png": "[encoded data removed]",
      "text/plain": [
       "<Figure size 576x288 with 1 Axes>"
      ]
     },
     "metadata": {
      "needs_background": "light"
     },
     "output_type": "display_data"
    }
   ],
   "source": [
    "plt.rcParams.update({'font.size': 18,'xtick.major.width'   : 1,'ytick.major.width'   : 1,'axes.linewidth' : 1})\n",
    "n_bins = 100\n",
    "\n",
    "fig, ax = plt.subplots(figsize=(8, 4))\n",
    "\n",
    "# plot the cumulative histogram\n",
    "n, bins, patches = ax.hist(list_y, n_bins, density=True, histtype='step',\n",
    "                           cumulative=True, linestyle = '-',label='Among test patients',linewidth=1.5)\n",
    "n, bins, patches = ax.hist(list_x, n_bins, density=True, histtype='step',\n",
    "                           cumulative=True, linestyle = '-.',label='Among 99 random guesses_1',linewidth=1.5)\n",
    "n, bins, patches = ax.hist(list_z, n_bins, density=True, histtype='step',\n",
    "                           cumulative=True, linestyle = ':',label='Among 99 random guesses_2',linewidth=1.5)\n",
    "my_x_ticks = np.arange(-0., 0.9, 0.1)\n",
    "my_y_ticks = np.arange(-0., 1.1, 0.2)\n",
    "plt.xticks(my_x_ticks)\n",
    "plt.yticks(my_y_ticks)\n",
    "# tidy up the figure\n",
    "ax.legend(loc='right')\n",
    "ax.set_xlabel('Neighborhood of model prediction towards the Real Data')\n",
    "ax.set_ylabel('Percentage of Subjects')\n",
    "\n",
    "plt.show()"
   ]
  },
  {
   "cell_type": "markdown",
   "metadata": {},
   "source": [
    "# Evaluation on test data from t1 to t3"
   ]
  },
  {
   "cell_type": "code",
   "execution_count": 49,
   "metadata": {},
   "outputs": [
    {
     "name": "stderr",
     "output_type": "stream",
     "text": [
      "C:\\Users\\lenovo\\Anaconda3\\lib\\site-packages\\ipykernel_launcher.py:7: UserWarning: To copy construct from a tensor, it is recommended to use sourceTensor.clone().detach() or sourceTensor.clone().detach().requires_grad_(True), rather than torch.tensor(sourceTensor).\n",
      "  import sys\n"
     ]
    }
   ],
   "source": [
    "integration_t= torch.tensor([0,0.4]).float()###############time\n",
    "X_train = torch.tensor(pib_v1).float()\n",
    "X_test = torch.tensor(pib_v1).float()\n",
    "y_train = torch.tensor(pib_v2).float()\n",
    "y_test = torch.tensor(pib_v3).float()\n",
    "L_train = torch.tensor(Connect_v1).float()\n",
    "L_test = torch.tensor(Connect_v1).float()\n",
    "\n",
    "list_y = []\n",
    "list_x = []\n",
    "list_z = []\n",
    "for i in range(0,len(y_test)):\n",
    "    temp_1 = evaluate_2( y_test, model(integration_t,X_test[i], L_test[i])[1],i, len(y_test))\n",
    "    temp_2 = evaluate_1(y_test[i], model(integration_t,X_test[i], L_test[i])[1], 100)\n",
    "    temp_3 = evaluate_3(y_test, model(integration_t,X_test[i], L_test[i])[1],i, 100)\n",
    "    list_y.append(temp_1)\n",
    "    list_x.append(temp_2)\n",
    "    list_z.append(temp_3)\n",
    "    #print(temp)"
   ]
  },
  {
   "cell_type": "code",
   "execution_count": 52,
   "metadata": {},
   "outputs": [
    {
     "data": {
      "image/png": "[encoded data removed]",
      "text/plain": [
       "<Figure size 576x288 with 1 Axes>"
      ]
     },
     "metadata": {
      "needs_background": "light"
     },
     "output_type": "display_data"
    }
   ],
   "source": [
    "plt.rcParams.update({'font.size': 18,'xtick.major.width'   : 1,'ytick.major.width'   : 1,'axes.linewidth' : 1})\n",
    "n_bins = 100\n",
    "\n",
    "fig, ax = plt.subplots(figsize=(8, 4))\n",
    "\n",
    "# plot the cumulative histogram\n",
    "n, bins, patches = ax.hist(list_y, n_bins, density=True, histtype='step',\n",
    "                           cumulative=True, linestyle = '-',label='Among all training patients',linewidth=1.5)\n",
    "n, bins, patches = ax.hist(list_x, n_bins, density=True, histtype='step',\n",
    "                           cumulative=True, linestyle = '-.',label='Among 99 random guesses_1',linewidth=1.5)\n",
    "n, bins, patches = ax.hist(list_z, n_bins, density=True, histtype='step',\n",
    "                           cumulative=True, linestyle = ':',label='Among 99 random guesses_2',linewidth=1.5)\n",
    "\n",
    "\n",
    "my_x_ticks = np.arange(-0., 1.1, 0.1)\n",
    "my_y_ticks = np.arange(-0., 1.1, 0.2)\n",
    "plt.xticks(my_x_ticks)\n",
    "plt.yticks(my_y_ticks)\n",
    "# tidy up the figure\n",
    "ax.legend(loc='right')\n",
    "ax.set_xlabel('Neighborhood of model prediction towards the Real Data')\n",
    "ax.set_ylabel('Percentage of Subjects')\n",
    "\n",
    "plt.show()"
   ]
  }
 ],
 "metadata": {
  "kernelspec": {
   "display_name": "Python 3",
   "language": "python",
   "name": "python3"
  },
  "language_info": {
   "codemirror_mode": {
    "name": "ipython",
    "version": 3
   },
   "file_extension": ".py",
   "mimetype": "text/x-python",
   "name": "python",
   "nbconvert_exporter": "python",
   "pygments_lexer": "ipython3",
   "version": "3.7.1"
  }
 },
 "nbformat": 4,
 "nbformat_minor": 2
}
